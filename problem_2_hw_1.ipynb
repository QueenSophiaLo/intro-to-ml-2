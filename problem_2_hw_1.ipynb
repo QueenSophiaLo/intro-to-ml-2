{
  "nbformat": 4,
  "nbformat_minor": 0,
  "metadata": {
    "colab": {
      "provenance": []
    },
    "kernelspec": {
      "name": "python3",
      "display_name": "Python 3"
    },
    "language_info": {
      "name": "python"
    }
  },
  "cells": [
    {
      "cell_type": "code",
      "execution_count": 2,
      "metadata": {
        "id": "TxG4cE0l3fag"
      },
      "outputs": [],
      "source": [
        "import numpy as np\n",
        "import pandas as pd\n",
        "import matplotlib.pyplot as plt\n",
        "\n",
        "# HW 1 (Problem 2)\n",
        "# Sophia Godfrey\n",
        "# Student ID: 801149485"
      ]
    },
    {
      "cell_type": "code",
      "source": [
        "filePath=\"D3.csv\"\n",
        "\n",
        "# Load dataset\n",
        "df = pd.read_csv(filePath, index_col=False)\n",
        "\n",
        "# Display the first 5 rows of the DataFrame\n",
        "print(df.head())"
      ],
      "metadata": {
        "colab": {
          "base_uri": "https://localhost:8080/"
        },
        "id": "REKAfAdR4MmV",
        "outputId": "3c8cabc8-8617-4f95-fd49-c77dabc86131"
      },
      "execution_count": 3,
      "outputs": [
        {
          "output_type": "stream",
          "name": "stdout",
          "text": [
            "         X1        X2        X3         Y\n",
            "0  0.000000  3.440000  0.440000  4.387545\n",
            "1  0.040404  0.134949  0.888485  2.679650\n",
            "2  0.080808  0.829899  1.336970  2.968490\n",
            "3  0.121212  1.524848  1.785455  3.254065\n",
            "4  0.161616  2.219798  2.233939  3.536375\n"
          ]
        }
      ]
    },
    {
      "cell_type": "code",
      "source": [
        "# Cost Function\n",
        "def compute_cost(X, y, theta):\n",
        "    m = len(y)\n",
        "    predictions = X.dot(theta)\n",
        "    errors = predictions - y\n",
        "    sqrErrors = np.square(errors)\n",
        "    J = (1 / (2 * m)) * np.sum(sqrErrors)\n",
        "    return J"
      ],
      "metadata": {
        "id": "aA0UWRmScPOe"
      },
      "execution_count": 13,
      "outputs": []
    },
    {
      "cell_type": "code",
      "source": [
        "# Gradient Descent\n",
        "def gradient_descent(X, y, theta, alpha, iterations):\n",
        "    m = len(y)\n",
        "    cost_history = np.zeros(iterations)\n",
        "\n",
        "    for i in range(iterations):\n",
        "        predictions = X.dot(theta)\n",
        "        errors = predictions - y\n",
        "        theta -= (alpha / m) * X.T.dot(errors)\n",
        "        cost_history[i] = compute_cost(X, y, theta)\n",
        "\n",
        "    return theta, cost_history"
      ],
      "metadata": {
        "id": "OPW7as9-cWKT"
      },
      "execution_count": 5,
      "outputs": []
    },
    {
      "cell_type": "code",
      "source": [
        "# Multiple Linear Regression\n",
        "def run_multiple_variable_regression(df, alphas, iterations=1000):\n",
        "    m = len(df)\n",
        "    X = np.c_[np.ones(m), df[['X1','X2','X3']].values]  # Add intercept\n",
        "    y = df['Y'].values.reshape(-1,1)\n",
        "\n",
        "    best_theta = None\n",
        "    best_alpha = None\n",
        "    best_cost_history = None\n",
        "    best_final_cost = float('inf')\n",
        "\n",
        "    for alpha in alphas:\n",
        "        theta = np.zeros((X.shape[1],1))\n",
        "        theta, cost_history = gradient_descent(X, y, theta, alpha, iterations)\n",
        "        final_cost = cost_history[-1]\n",
        "        print(f\"Alpha: {alpha}, Final Cost: {final_cost:.4f}\")\n",
        "\n",
        "        if final_cost < best_final_cost:\n",
        "            best_final_cost = final_cost\n",
        "            best_theta = theta\n",
        "            best_alpha = alpha\n",
        "            best_cost_history = cost_history\n",
        "\n",
        "    return best_theta, best_alpha, best_cost_history"
      ],
      "metadata": {
        "id": "5d8bTvIzcZxW"
      },
      "execution_count": 8,
      "outputs": []
    },
    {
      "cell_type": "code",
      "source": [
        "# Learning rates to test\n",
        "learning_rates = [0.01, 0.05, 0.1]\n",
        "iterations = 1000\n",
        "\n",
        "# Train using all explanatory variables\n",
        "best_theta, best_alpha, best_cost_history = run_multiple_variable_regression(df, learning_rates, iterations)"
      ],
      "metadata": {
        "colab": {
          "base_uri": "https://localhost:8080/"
        },
        "id": "cYMBq20nceYD",
        "outputId": "556167e9-71b4-46a5-aedb-0ed410c5e648"
      },
      "execution_count": 9,
      "outputs": [
        {
          "output_type": "stream",
          "name": "stdout",
          "text": [
            "Alpha: 0.01, Final Cost: 0.9338\n",
            "Alpha: 0.05, Final Cost: 0.7385\n",
            "Alpha: 0.1, Final Cost: 0.7385\n"
          ]
        }
      ]
    },
    {
      "cell_type": "code",
      "source": [
        "# Report final linear model\n",
        "theta_flat = best_theta.flatten()\n",
        "print(f\"\\nBest model found with alpha={best_alpha}:\")\n",
        "print(f\"y = {theta_flat[1]:.4f}*x1 + {theta_flat[2]:.4f}*x2 + {theta_flat[3]:.4f}*x3 + {theta_flat[0]:.4f}\")"
      ],
      "metadata": {
        "colab": {
          "base_uri": "https://localhost:8080/"
        },
        "id": "M2Tw0_B4c2Ty",
        "outputId": "ee029b43-7113-49ab-be3a-03b605bcdf7d"
      },
      "execution_count": 10,
      "outputs": [
        {
          "output_type": "stream",
          "name": "stdout",
          "text": [
            "\n",
            "Best model found with alpha=0.1:\n",
            "y = -2.0037*x1 + 0.5326*x2 + -0.2656*x3 + 5.3139\n"
          ]
        }
      ]
    },
    {
      "cell_type": "code",
      "source": [
        "# Plot loss over iterations\n",
        "plt.figure(figsize=(10,6))\n",
        "plt.plot(range(iterations), best_cost_history, color='blue')\n",
        "plt.title('Cost Function Convergence (All Variables)')\n",
        "plt.xlabel('Iteration')\n",
        "plt.ylabel('Cost (MSE)')\n",
        "plt.grid(True)\n",
        "plt.show()"
      ],
      "metadata": {
        "colab": {
          "base_uri": "https://localhost:8080/",
          "height": 419
        },
        "id": "RqWLRu8vc6t6",
        "outputId": "11c2c15e-4048-40f6-81e3-1dafa9f28afe"
      },
      "execution_count": 11,
      "outputs": [
        {
          "output_type": "display_data",
          "data": {
            "text/plain": [
              "<Figure size 1000x600 with 1 Axes>"
            ],
            "image/png": "[encoded data removed]"
          },
          "metadata": {}
        }
      ]
    },
    {
      "cell_type": "code",
      "source": [
        "# Predict y for new inputs\n",
        "new_X = np.array([[1,1,1],[2,0,4],[3,2,1]])\n",
        "new_X = np.c_[np.ones(len(new_X)), new_X]  # Add intercept\n",
        "predictions = new_X.dot(best_theta)\n",
        "for i, val in enumerate(predictions):\n",
        "    print(f\"Prediction for {new_X[i,1:]}: y = {val[0]:.4f}\")"
      ],
      "metadata": {
        "colab": {
          "base_uri": "https://localhost:8080/"
        },
        "id": "6GIa-wvRdOUw",
        "outputId": "7c7fe40d-3398-4c6a-df7b-8480ca376ebc"
      },
      "execution_count": 12,
      "outputs": [
        {
          "output_type": "stream",
          "name": "stdout",
          "text": [
            "Prediction for [1. 1. 1.]: y = 3.5773\n",
            "Prediction for [2. 0. 4.]: y = 0.2443\n",
            "Prediction for [3. 2. 1.]: y = 0.1025\n"
          ]
        }
      ]
    }
  ]
}